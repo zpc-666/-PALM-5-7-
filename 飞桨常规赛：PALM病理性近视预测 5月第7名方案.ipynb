{
 "cells": [
  {
   "cell_type": "markdown",
   "metadata": {
    "collapsed": false
   },
   "source": [
    "# 飞桨常规赛：PALM病理性近视预测  5月第7名方案"
   ]
  },
  {
   "cell_type": "markdown",
   "metadata": {
    "collapsed": false
   },
   "source": [
    "```\n",
    "为了进行交叉验证及模型集成，我把数据集按照4:1划分了5次，得到train_0.txt~train_4.txt及val_0.txt~val_4.txt。\n",
    "这个最好的结果是在train_1.txt上训练带有预训练的mobilenet_v1，用最好的模型预测得到的。\n",
    "后来还做了半监督学习、模型结果求均值等都没得到更好的结果。\n",
    "还有评价指标我只用了ACC没有用AUC。\n",
    "```"
   ]
  },
  {
   "cell_type": "code",
   "execution_count": 2,
   "metadata": {
    "collapsed": false
   },
   "outputs": [],
   "source": [
    "#解压数据集至data目录\r\n",
    "!unzip -oq /home/aistudio/data/data93479/常规赛：PALM病理性近视预测.zip -d data/"
   ]
  },
  {
   "cell_type": "code",
   "execution_count": 4,
   "metadata": {
    "collapsed": false
   },
   "outputs": [
    {
     "name": "stdout",
     "output_type": "stream",
     "text": [
      "paddle's version: 2.0.2\n"
     ]
    }
   ],
   "source": [
    "#导包\r\n",
    "import paddle\r\n",
    "import numpy as np\r\n",
    "from paddle.vision import transforms\r\n",
    "from paddle import optimizer as optim\r\n",
    "from paddle.io import Dataset\r\n",
    "import matplotlib.pylab as plt\r\n",
    "import os\r\n",
    "import pandas as pd\r\n",
    "from PIL import Image\r\n",
    "import warnings\r\n",
    "warnings.filterwarnings(\"ignore\")\r\n",
    "print(\"paddle's version:\", paddle.__version__)"
   ]
  },
  {
   "cell_type": "markdown",
   "metadata": {
    "collapsed": false
   },
   "source": [
    "# 准备数据"
   ]
  },
  {
   "cell_type": "code",
   "execution_count": 5,
   "metadata": {
    "collapsed": false
   },
   "outputs": [],
   "source": [
    "def create_txt(data_root, train_dir=None, test_dir=None, val_pro=0.2, is_cross_val=False, k=None):#当is_cross_val=True时，k必须有正整值\r\n",
    "    if train_dir is not None:\r\n",
    "        if os.path.exists(\"train.txt\"):\r\n",
    "            os.remove(\"train.txt\")\r\n",
    "        if os.path.exists(\"val.txt\"):\r\n",
    "            os.remove(\"val.txt\")\r\n",
    "        train_path = os.path.join(data_root, train_dir)\r\n",
    "        dir_list = sorted(os.listdir(train_path))#['.DS_Store', 'Classification.xlsx', 'fundus_image']\r\n",
    "        label_path = os.path.join(train_path, dir_list[1])\r\n",
    "        all_train_data = pd.read_excel(label_path)\r\n",
    "        #打乱数据\r\n",
    "        all_train_data = all_train_data.sample(frac=1.0, random_state=2021).reset_index(drop=True)\r\n",
    "        if is_cross_val is False:\r\n",
    "            val_len = int(len(all_train_data)*val_pro)\r\n",
    "            val_data = all_train_data.iloc[:val_len]\r\n",
    "            train_data = all_train_data.iloc[val_len:]\r\n",
    "            with open(\"train.txt\", 'w') as f:\r\n",
    "                for i in range(len(train_data)):\r\n",
    "                    img_path = os.path.join(train_path, dir_list[2], train_data.iloc[i, 0])\r\n",
    "                    label = train_data.iloc[i, 1]\r\n",
    "                    f.write(img_path+\",\"+str(label)+\"\\n\")\r\n",
    "            with open(\"val.txt\", 'w') as f:\r\n",
    "                for i in range(len(val_data)):\r\n",
    "                    img_path = os.path.join(train_path, dir_list[2], val_data.iloc[i, 0])\r\n",
    "                    label = val_data.iloc[i, 1]\r\n",
    "                    f.write(img_path+\",\"+str(label)+\"\\n\")\r\n",
    "        else:\r\n",
    "            val_len = len(all_train_data)//k\r\n",
    "            for m in range(k):\r\n",
    "                val_data = all_train_data.iloc[val_len*m:val_len*(m+1)]\r\n",
    "                train_data = pd.concat([all_train_data.iloc[:val_len*m], all_train_data.iloc[val_len*(m+1):]], axis=0)\r\n",
    "                train_txt = \"train_\"+str(m)+\".txt\"\r\n",
    "                val_txt = \"val_\"+str(m)+\".txt\"\r\n",
    "                with open(train_txt, 'w') as f:\r\n",
    "                    for i in range(len(train_data)):\r\n",
    "                        img_path = os.path.join(train_path, dir_list[2], train_data.iloc[i, 0])\r\n",
    "                        label = train_data.iloc[i, 1]\r\n",
    "                        f.write(img_path+\",\"+str(label)+\"\\n\")\r\n",
    "                with open(val_txt, 'w') as f:\r\n",
    "                    for i in range(len(val_data)):\r\n",
    "                        img_path = os.path.join(train_path, dir_list[2], val_data.iloc[i, 0])\r\n",
    "                        label = val_data.iloc[i, 1]\r\n",
    "                        f.write(img_path+\",\"+str(label)+\"\\n\")\r\n",
    "    print(\"训练数据整理完毕！训练集长度：{}，验证集长度：{}\".format(len(train_data), val_len))\r\n",
    "\r\n",
    "    if test_dir is not None:\r\n",
    "        if os.path.exists(\"test.txt\"):\r\n",
    "            os.remove(\"test.txt\")\r\n",
    "        test_path = os.path.join(data_root, test_dir)\r\n",
    "        test_imgs_path_list = sorted(os.listdir(test_path))\r\n",
    "        with open(\"test.txt\", 'w') as f:\r\n",
    "            for path in test_imgs_path_list:\r\n",
    "                img_path = os.path.join(test_path, path)\r\n",
    "                f.write(img_path+\"\\n\")\r\n",
    "    print(\"测试数据整理完毕！测试集长度：{}\".format(len(test_imgs_path_list)))"
   ]
  },
  {
   "cell_type": "code",
   "execution_count": 7,
   "metadata": {
    "collapsed": false
   },
   "outputs": [
    {
     "name": "stdout",
     "output_type": "stream",
     "text": [
      "训练数据整理完毕！训练集长度：640，验证集长度：160\n",
      "测试数据整理完毕！测试集长度：400\n"
     ]
    }
   ],
   "source": [
    "data_root = \"data/常规赛：PALM病理性近视预测\"\r\n",
    "train_dir = \"Train\"\r\n",
    "test_dir = \"PALM-Testing400-Images\"\r\n",
    "create_txt(data_root=data_root, train_dir=train_dir, test_dir=test_dir)#, is_cross_val=True, k=5)"
   ]
  },
  {
   "cell_type": "code",
   "execution_count": null,
   "metadata": {
    "collapsed": false
   },
   "outputs": [
    {
     "name": "stdout",
     "output_type": "stream",
     "text": [
      "data/常规赛：PALM病理性近视预测/Train/fundus_image/V0174.jpg,0\n",
      "\n",
      "data/常规赛：PALM病理性近视预测/Train/fundus_image/V0316.jpg,1\n",
      "\n",
      "data/常规赛：PALM病理性近视预测/Train/fundus_image/V0061.jpg,0\n",
      "\n",
      "data/常规赛：PALM病理性近视预测/Train/fundus_image/P0011.jpg,1\n",
      "\n",
      "data/常规赛：PALM病理性近视预测/Train/fundus_image/V0085.jpg,1\n",
      "\n"
     ]
    }
   ],
   "source": [
    "#验证一下是否写入正确，可以直接点开文件查看\r\n",
    "#也可以读取文件内容查看\r\n",
    "#以train.txt为例，只看前5行验证\r\n",
    "count = 5\r\n",
    "with open('train.txt', 'r')  as f:\r\n",
    "    for line in f.readlines():\r\n",
    "        print(line)\r\n",
    "        count -= 1\r\n",
    "        if count==0:\r\n",
    "            break"
   ]
  },
  {
   "cell_type": "code",
   "execution_count": null,
   "metadata": {
    "collapsed": false
   },
   "outputs": [
    {
     "name": "stdout",
     "output_type": "stream",
     "text": [
      "label: 1\n",
      "\n",
      "image shape: (2056, 2124, 3)\n"
     ]
    },
    {
     "data": {
      "image/png": "[encoded data removed]",
      "text/plain": [
       "<Figure size 432x288 with 1 Axes>"
      ]
     },
     "metadata": {},
     "output_type": "display_data"
    }
   ],
   "source": [
    "#打开一张图片观察一下\r\n",
    "img_path, label = line.split(',')[0], line.split(',')[1]\r\n",
    "img = Image.open(img_path)\r\n",
    "print('label:', label)\r\n",
    "print('image shape:', np.array(img).shape)\r\n",
    "plt.imshow(img)\r\n",
    "plt.show()\r\n",
    "#属于病理性近视"
   ]
  },
  {
   "cell_type": "code",
   "execution_count": null,
   "metadata": {
    "collapsed": false
   },
   "outputs": [],
   "source": [
    "#构建Dataset\r\n",
    "class MyDataset(Dataset):\r\n",
    "    def __init__(self, file_name, mode, transform=None):\r\n",
    "        assert mode==\"train\" or mode==\"val\" or mode==\"test\", \"ERROR:mode must be train, val or test.\"\r\n",
    "        self.img_path_list = []\r\n",
    "        self.label_list = []\r\n",
    "        #打开存放图片路径的.txt文件，得到图片路径列表和对应标签列表\r\n",
    "        with open(file_name, 'r') as f:\r\n",
    "            for line in f.readlines():\r\n",
    "                line = line.strip().split(',')\r\n",
    "                self.img_path_list.append(line[0])\r\n",
    "                if mode!='test':#测试集没有标签\r\n",
    "                    self.label_list.append(int(line[1]))        \r\n",
    "        \r\n",
    "        self.transform = transform\r\n",
    "        self.mode = mode\r\n",
    "\r\n",
    "    def __getitem__(self, idx):\r\n",
    "        #读取图片，（H,W,C）\r\n",
    "        img = Image.open(self.img_path_list[idx])\r\n",
    "        if img.mode != 'RGB':\r\n",
    "            img = img.convert('RGB')\r\n",
    "        #应用数据增强\r\n",
    "        if self.transform is not None:\r\n",
    "            img = self.transform(img).astype('float32')\r\n",
    "        \r\n",
    "        if self.mode!='test':\r\n",
    "            label = np.array(self.label_list[idx])\r\n",
    "            return img, label\r\n",
    "        else:\r\n",
    "            return [img]\r\n",
    "\r\n",
    "    def __len__(self):\r\n",
    "        return len(self.img_path_list)"
   ]
  },
  {
   "cell_type": "code",
   "execution_count": null,
   "metadata": {
    "collapsed": false
   },
   "outputs": [
    {
     "name": "stdout",
     "output_type": "stream",
     "text": [
      "train data length: 640\n",
      "val data length: 160\n",
      "test data length: 400\n"
     ]
    }
   ],
   "source": [
    "#数据增强\r\n",
    "image_size = 224\r\n",
    "train_transform = transforms.Compose([\r\n",
    "    transforms.Resize((image_size, image_size)),#改变大小\r\n",
    "    transforms.RandomHorizontalFlip(),#水平翻转\r\n",
    "    transforms.RandomVerticalFlip(),#垂直翻转\r\n",
    "    transforms.RandomRotation(90),#随机旋转\r\n",
    "    transforms.Transpose(),\r\n",
    "    transforms.Normalize(mean=[127.5, 127.5, 127.5], std=[127.5, 127.5, 127.5])#归一化\r\n",
    "])\r\n",
    "\r\n",
    "test_transform = transforms.Compose([\r\n",
    "    transforms.Resize((image_size, image_size)),#改变大小\r\n",
    "    transforms.Transpose(),\r\n",
    "    transforms.Normalize(mean=[127.5, 127.5, 127.5], std=[127.5, 127.5, 127.5])#归一化\r\n",
    "])\r\n",
    "\r\n",
    "#顺序得到train_data, val_data, test_data\r\n",
    "train_data = MyDataset(file_name='train.txt', mode='train', transform=train_transform)\r\n",
    "val_data = MyDataset(file_name='val.txt', mode='val', transform=test_transform)\r\n",
    "test_data = MyDataset(file_name='test.txt', mode='test', transform=test_transform)\r\n",
    "print(\"train data length:\", len(train_data))\r\n",
    "print(\"val data length:\", len(val_data))\r\n",
    "print(\"test data length:\", len(test_data))"
   ]
  },
  {
   "cell_type": "code",
   "execution_count": null,
   "metadata": {
    "collapsed": false
   },
   "outputs": [
    {
     "name": "stdout",
     "output_type": "stream",
     "text": [
      "img shape: (3, 224, 224)\n",
      "label: 0.0\n",
      "[[[-1. -1. -1. ... -1. -1. -1.]\n",
      "  [-1. -1. -1. ... -1. -1. -1.]\n",
      "  [-1. -1. -1. ... -1. -1. -1.]\n",
      "  ...\n",
      "  [-1. -1. -1. ... -1. -1. -1.]\n",
      "  [-1. -1. -1. ... -1. -1. -1.]\n",
      "  [-1. -1. -1. ... -1. -1. -1.]]\n",
      "\n",
      " [[-1. -1. -1. ... -1. -1. -1.]\n",
      "  [-1. -1. -1. ... -1. -1. -1.]\n",
      "  [-1. -1. -1. ... -1. -1. -1.]\n",
      "  ...\n",
      "  [-1. -1. -1. ... -1. -1. -1.]\n",
      "  [-1. -1. -1. ... -1. -1. -1.]\n",
      "  [-1. -1. -1. ... -1. -1. -1.]]\n",
      "\n",
      " [[-1. -1. -1. ... -1. -1. -1.]\n",
      "  [-1. -1. -1. ... -1. -1. -1.]\n",
      "  [-1. -1. -1. ... -1. -1. -1.]\n",
      "  ...\n",
      "  [-1. -1. -1. ... -1. -1. -1.]\n",
      "  [-1. -1. -1. ... -1. -1. -1.]\n",
      "  [-1. -1. -1. ... -1. -1. -1.]]]\n"
     ]
    }
   ],
   "source": [
    "# 查看数据大小和标签\r\n",
    "for img, label in train_data:\r\n",
    "    print(\"img shape:\", img.shape)\r\n",
    "    print(\"label:\", label)\r\n",
    "    print(img)\r\n",
    "    break"
   ]
  },
  {
   "cell_type": "markdown",
   "metadata": {
    "collapsed": false
   },
   "source": [
    "# 搭建模型"
   ]
  },
  {
   "cell_type": "code",
   "execution_count": 83,
   "metadata": {
    "collapsed": false
   },
   "outputs": [
    {
     "name": "stderr",
     "output_type": "stream",
     "text": [
      "2021-05-09 00:06:29,726 - INFO - unique_endpoints {''}\n",
      "[INFO 2021-05-09 00:06:29,726 download.py:154] unique_endpoints {''}\n",
      "2021-05-09 00:06:29,727 - INFO - File /home/aistudio/.cache/paddle/hapi/weights/mobilenet_v1_x1.0.pdparams md5 checking...\n",
      "[INFO 2021-05-09 00:06:29,727 download.py:251] File /home/aistudio/.cache/paddle/hapi/weights/mobilenet_v1_x1.0.pdparams md5 checking...\n",
      "2021-05-09 00:06:29,835 - INFO - Found /home/aistudio/.cache/paddle/hapi/weights/mobilenet_v1_x1.0.pdparams\n",
      "[INFO 2021-05-09 00:06:29,835 download.py:184] Found /home/aistudio/.cache/paddle/hapi/weights/mobilenet_v1_x1.0.pdparams\n"
     ]
    },
    {
     "name": "stdout",
     "output_type": "stream",
     "text": [
      "----------------------------------------------------------------------------------\n",
      "     Layer (type)          Input Shape          Output Shape         Param #    \n",
      "==================================================================================\n",
      "      Conv2D-190        [[1, 3, 224, 224]]   [1, 32, 112, 112]         864      \n",
      "   BatchNorm2D-190     [[1, 32, 112, 112]]   [1, 32, 112, 112]         128      \n",
      "       ReLU-190        [[1, 32, 112, 112]]   [1, 32, 112, 112]          0       \n",
      "   ConvBNLayer-190      [[1, 3, 224, 224]]   [1, 32, 112, 112]          0       \n",
      "      Conv2D-191       [[1, 32, 112, 112]]   [1, 32, 112, 112]         288      \n",
      "   BatchNorm2D-191     [[1, 32, 112, 112]]   [1, 32, 112, 112]         128      \n",
      "       ReLU-191        [[1, 32, 112, 112]]   [1, 32, 112, 112]          0       \n",
      "   ConvBNLayer-191     [[1, 32, 112, 112]]   [1, 32, 112, 112]          0       \n",
      "      Conv2D-192       [[1, 32, 112, 112]]   [1, 64, 112, 112]        2,048     \n",
      "   BatchNorm2D-192     [[1, 64, 112, 112]]   [1, 64, 112, 112]         256      \n",
      "       ReLU-192        [[1, 64, 112, 112]]   [1, 64, 112, 112]          0       \n",
      "   ConvBNLayer-192     [[1, 32, 112, 112]]   [1, 64, 112, 112]          0       \n",
      "DepthwiseSeparable-92  [[1, 32, 112, 112]]   [1, 64, 112, 112]          0       \n",
      "      Conv2D-193       [[1, 64, 112, 112]]    [1, 64, 56, 56]          576      \n",
      "   BatchNorm2D-193      [[1, 64, 56, 56]]     [1, 64, 56, 56]          256      \n",
      "       ReLU-193         [[1, 64, 56, 56]]     [1, 64, 56, 56]           0       \n",
      "   ConvBNLayer-193     [[1, 64, 112, 112]]    [1, 64, 56, 56]           0       \n",
      "      Conv2D-194        [[1, 64, 56, 56]]     [1, 128, 56, 56]        8,192     \n",
      "   BatchNorm2D-194      [[1, 128, 56, 56]]    [1, 128, 56, 56]         512      \n",
      "       ReLU-194         [[1, 128, 56, 56]]    [1, 128, 56, 56]          0       \n",
      "   ConvBNLayer-194      [[1, 64, 56, 56]]     [1, 128, 56, 56]          0       \n",
      "DepthwiseSeparable-93  [[1, 64, 112, 112]]    [1, 128, 56, 56]          0       \n",
      "      Conv2D-195        [[1, 128, 56, 56]]    [1, 128, 56, 56]        1,152     \n",
      "   BatchNorm2D-195      [[1, 128, 56, 56]]    [1, 128, 56, 56]         512      \n",
      "       ReLU-195         [[1, 128, 56, 56]]    [1, 128, 56, 56]          0       \n",
      "   ConvBNLayer-195      [[1, 128, 56, 56]]    [1, 128, 56, 56]          0       \n",
      "      Conv2D-196        [[1, 128, 56, 56]]    [1, 128, 56, 56]       16,384     \n",
      "   BatchNorm2D-196      [[1, 128, 56, 56]]    [1, 128, 56, 56]         512      \n",
      "       ReLU-196         [[1, 128, 56, 56]]    [1, 128, 56, 56]          0       \n",
      "   ConvBNLayer-196      [[1, 128, 56, 56]]    [1, 128, 56, 56]          0       \n",
      "DepthwiseSeparable-94   [[1, 128, 56, 56]]    [1, 128, 56, 56]          0       \n",
      "      Conv2D-197        [[1, 128, 56, 56]]    [1, 128, 28, 28]        1,152     \n",
      "   BatchNorm2D-197      [[1, 128, 28, 28]]    [1, 128, 28, 28]         512      \n",
      "       ReLU-197         [[1, 128, 28, 28]]    [1, 128, 28, 28]          0       \n",
      "   ConvBNLayer-197      [[1, 128, 56, 56]]    [1, 128, 28, 28]          0       \n",
      "      Conv2D-198        [[1, 128, 28, 28]]    [1, 256, 28, 28]       32,768     \n",
      "   BatchNorm2D-198      [[1, 256, 28, 28]]    [1, 256, 28, 28]        1,024     \n",
      "       ReLU-198         [[1, 256, 28, 28]]    [1, 256, 28, 28]          0       \n",
      "   ConvBNLayer-198      [[1, 128, 28, 28]]    [1, 256, 28, 28]          0       \n",
      "DepthwiseSeparable-95   [[1, 128, 56, 56]]    [1, 256, 28, 28]          0       \n",
      "      Conv2D-199        [[1, 256, 28, 28]]    [1, 256, 28, 28]        2,304     \n",
      "   BatchNorm2D-199      [[1, 256, 28, 28]]    [1, 256, 28, 28]        1,024     \n",
      "       ReLU-199         [[1, 256, 28, 28]]    [1, 256, 28, 28]          0       \n",
      "   ConvBNLayer-199      [[1, 256, 28, 28]]    [1, 256, 28, 28]          0       \n",
      "      Conv2D-200        [[1, 256, 28, 28]]    [1, 256, 28, 28]       65,536     \n",
      "   BatchNorm2D-200      [[1, 256, 28, 28]]    [1, 256, 28, 28]        1,024     \n",
      "       ReLU-200         [[1, 256, 28, 28]]    [1, 256, 28, 28]          0       \n",
      "   ConvBNLayer-200      [[1, 256, 28, 28]]    [1, 256, 28, 28]          0       \n",
      "DepthwiseSeparable-96   [[1, 256, 28, 28]]    [1, 256, 28, 28]          0       \n",
      "      Conv2D-201        [[1, 256, 28, 28]]    [1, 256, 14, 14]        2,304     \n",
      "   BatchNorm2D-201      [[1, 256, 14, 14]]    [1, 256, 14, 14]        1,024     \n",
      "       ReLU-201         [[1, 256, 14, 14]]    [1, 256, 14, 14]          0       \n",
      "   ConvBNLayer-201      [[1, 256, 28, 28]]    [1, 256, 14, 14]          0       \n",
      "      Conv2D-202        [[1, 256, 14, 14]]    [1, 512, 14, 14]       131,072    \n",
      "   BatchNorm2D-202      [[1, 512, 14, 14]]    [1, 512, 14, 14]        2,048     \n",
      "       ReLU-202         [[1, 512, 14, 14]]    [1, 512, 14, 14]          0       \n",
      "   ConvBNLayer-202      [[1, 256, 14, 14]]    [1, 512, 14, 14]          0       \n",
      "DepthwiseSeparable-97   [[1, 256, 28, 28]]    [1, 512, 14, 14]          0       \n",
      "      Conv2D-203        [[1, 512, 14, 14]]    [1, 512, 14, 14]        4,608     \n",
      "   BatchNorm2D-203      [[1, 512, 14, 14]]    [1, 512, 14, 14]        2,048     \n",
      "       ReLU-203         [[1, 512, 14, 14]]    [1, 512, 14, 14]          0       \n",
      "   ConvBNLayer-203      [[1, 512, 14, 14]]    [1, 512, 14, 14]          0       \n",
      "      Conv2D-204        [[1, 512, 14, 14]]    [1, 512, 14, 14]       262,144    \n",
      "   BatchNorm2D-204      [[1, 512, 14, 14]]    [1, 512, 14, 14]        2,048     \n",
      "       ReLU-204         [[1, 512, 14, 14]]    [1, 512, 14, 14]          0       \n",
      "   ConvBNLayer-204      [[1, 512, 14, 14]]    [1, 512, 14, 14]          0       \n",
      "DepthwiseSeparable-98   [[1, 512, 14, 14]]    [1, 512, 14, 14]          0       \n",
      "      Conv2D-205        [[1, 512, 14, 14]]    [1, 512, 14, 14]        4,608     \n",
      "   BatchNorm2D-205      [[1, 512, 14, 14]]    [1, 512, 14, 14]        2,048     \n",
      "       ReLU-205         [[1, 512, 14, 14]]    [1, 512, 14, 14]          0       \n",
      "   ConvBNLayer-205      [[1, 512, 14, 14]]    [1, 512, 14, 14]          0       \n",
      "      Conv2D-206        [[1, 512, 14, 14]]    [1, 512, 14, 14]       262,144    \n",
      "   BatchNorm2D-206      [[1, 512, 14, 14]]    [1, 512, 14, 14]        2,048     \n",
      "       ReLU-206         [[1, 512, 14, 14]]    [1, 512, 14, 14]          0       \n",
      "   ConvBNLayer-206      [[1, 512, 14, 14]]    [1, 512, 14, 14]          0       \n",
      "DepthwiseSeparable-99   [[1, 512, 14, 14]]    [1, 512, 14, 14]          0       \n",
      "      Conv2D-207        [[1, 512, 14, 14]]    [1, 512, 14, 14]        4,608     \n",
      "   BatchNorm2D-207      [[1, 512, 14, 14]]    [1, 512, 14, 14]        2,048     \n",
      "       ReLU-207         [[1, 512, 14, 14]]    [1, 512, 14, 14]          0       \n",
      "   ConvBNLayer-207      [[1, 512, 14, 14]]    [1, 512, 14, 14]          0       \n",
      "      Conv2D-208        [[1, 512, 14, 14]]    [1, 512, 14, 14]       262,144    \n",
      "   BatchNorm2D-208      [[1, 512, 14, 14]]    [1, 512, 14, 14]        2,048     \n",
      "       ReLU-208         [[1, 512, 14, 14]]    [1, 512, 14, 14]          0       \n",
      "   ConvBNLayer-208      [[1, 512, 14, 14]]    [1, 512, 14, 14]          0       \n",
      "DepthwiseSeparable-100  [[1, 512, 14, 14]]    [1, 512, 14, 14]          0       \n",
      "      Conv2D-209        [[1, 512, 14, 14]]    [1, 512, 14, 14]        4,608     \n",
      "   BatchNorm2D-209      [[1, 512, 14, 14]]    [1, 512, 14, 14]        2,048     \n",
      "       ReLU-209         [[1, 512, 14, 14]]    [1, 512, 14, 14]          0       \n",
      "   ConvBNLayer-209      [[1, 512, 14, 14]]    [1, 512, 14, 14]          0       \n",
      "      Conv2D-210        [[1, 512, 14, 14]]    [1, 512, 14, 14]       262,144    \n",
      "   BatchNorm2D-210      [[1, 512, 14, 14]]    [1, 512, 14, 14]        2,048     \n",
      "       ReLU-210         [[1, 512, 14, 14]]    [1, 512, 14, 14]          0       \n",
      "   ConvBNLayer-210      [[1, 512, 14, 14]]    [1, 512, 14, 14]          0       \n",
      "DepthwiseSeparable-101  [[1, 512, 14, 14]]    [1, 512, 14, 14]          0       \n",
      "      Conv2D-211        [[1, 512, 14, 14]]    [1, 512, 14, 14]        4,608     \n",
      "   BatchNorm2D-211      [[1, 512, 14, 14]]    [1, 512, 14, 14]        2,048     \n",
      "       ReLU-211         [[1, 512, 14, 14]]    [1, 512, 14, 14]          0       \n",
      "   ConvBNLayer-211      [[1, 512, 14, 14]]    [1, 512, 14, 14]          0       \n",
      "      Conv2D-212        [[1, 512, 14, 14]]    [1, 512, 14, 14]       262,144    \n",
      "   BatchNorm2D-212      [[1, 512, 14, 14]]    [1, 512, 14, 14]        2,048     \n",
      "       ReLU-212         [[1, 512, 14, 14]]    [1, 512, 14, 14]          0       \n",
      "   ConvBNLayer-212      [[1, 512, 14, 14]]    [1, 512, 14, 14]          0       \n",
      "DepthwiseSeparable-102  [[1, 512, 14, 14]]    [1, 512, 14, 14]          0       \n",
      "      Conv2D-213        [[1, 512, 14, 14]]     [1, 512, 7, 7]         4,608     \n",
      "   BatchNorm2D-213       [[1, 512, 7, 7]]      [1, 512, 7, 7]         2,048     \n",
      "       ReLU-213          [[1, 512, 7, 7]]      [1, 512, 7, 7]           0       \n",
      "   ConvBNLayer-213      [[1, 512, 14, 14]]     [1, 512, 7, 7]           0       \n",
      "      Conv2D-214         [[1, 512, 7, 7]]     [1, 1024, 7, 7]        524,288    \n",
      "   BatchNorm2D-214      [[1, 1024, 7, 7]]     [1, 1024, 7, 7]         4,096     \n",
      "       ReLU-214         [[1, 1024, 7, 7]]     [1, 1024, 7, 7]           0       \n",
      "   ConvBNLayer-214       [[1, 512, 7, 7]]     [1, 1024, 7, 7]           0       \n",
      "DepthwiseSeparable-103  [[1, 512, 14, 14]]    [1, 1024, 7, 7]           0       \n",
      "      Conv2D-215        [[1, 1024, 7, 7]]     [1, 1024, 7, 7]         9,216     \n",
      "   BatchNorm2D-215      [[1, 1024, 7, 7]]     [1, 1024, 7, 7]         4,096     \n",
      "       ReLU-215         [[1, 1024, 7, 7]]     [1, 1024, 7, 7]           0       \n",
      "   ConvBNLayer-215      [[1, 1024, 7, 7]]     [1, 1024, 7, 7]           0       \n",
      "      Conv2D-216        [[1, 1024, 7, 7]]     [1, 1024, 7, 7]       1,048,576   \n",
      "   BatchNorm2D-216      [[1, 1024, 7, 7]]     [1, 1024, 7, 7]         4,096     \n",
      "       ReLU-216         [[1, 1024, 7, 7]]     [1, 1024, 7, 7]           0       \n",
      "   ConvBNLayer-216      [[1, 1024, 7, 7]]     [1, 1024, 7, 7]           0       \n",
      "DepthwiseSeparable-104  [[1, 1024, 7, 7]]     [1, 1024, 7, 7]           0       \n",
      " AdaptiveAvgPool2D-8    [[1, 1024, 7, 7]]     [1, 1024, 1, 1]           0       \n",
      "       Linear-8            [[1, 1024]]             [1, 2]             2,050     \n",
      "==================================================================================\n",
      "Total params: 3,230,914\n",
      "Trainable params: 3,187,138\n",
      "Non-trainable params: 43,776\n",
      "----------------------------------------------------------------------------------\n",
      "Input size (MB): 0.57\n",
      "Forward/backward pass size (MB): 174.57\n",
      "Params size (MB): 12.32\n",
      "Estimated Total Size (MB): 187.47\n",
      "----------------------------------------------------------------------------------\n",
      "\n"
     ]
    },
    {
     "data": {
      "text/plain": [
       "{'total_params': 3230914, 'trainable_params': 3187138}"
      ]
     },
     "execution_count": 83,
     "metadata": {},
     "output_type": "execute_result"
    }
   ],
   "source": [
    "#使用paddle自己的预训练模型\r\n",
    "net = paddle.vision.models.mobilenet_v1(num_classes=2, pretrained=True)\r\n",
    "model = paddle.Model(net)\r\n",
    "model.summary((-1, 3, 224, 224)) "
   ]
  },
  {
   "cell_type": "code",
   "execution_count": 86,
   "metadata": {
    "collapsed": false
   },
   "outputs": [],
   "source": [
    "#配置训练配置\r\n",
    "epochs = 100\r\n",
    "batch_size = 64\r\n",
    "lr = 3e-4\r\n",
    "weight_decay = 5e-4\r\n",
    "save_dir = \"mobilenet_v1_2\"\r\n",
    "#lr = optim.lr.CosineAnnealingDecay(learning_rate=lr, T_max=200, eta_min=3e-6, last_epoch=-1, verbose=False)\r\n",
    "optimizer = optim.AdamW(learning_rate=lr, parameters=model.parameters())\r\n",
    "\r\n",
    "model.prepare(optimizer=optimizer, #指定优化器\r\n",
    "                loss=paddle.nn.CrossEntropyLoss(), #指定损失函数\r\n",
    "                metrics=paddle.metric.Accuracy()) #指定评估方法\r\n",
    "\r\n",
    "#用于visualdl可视化\r\n",
    "visualdl = paddle.callbacks.VisualDL(log_dir=save_dir)\r\n",
    "#早停机制，在eval_acc不增大10个epoch时停止训练并保存最佳模型\r\n",
    "early_stop = paddle.callbacks.EarlyStopping(\r\n",
    "                                            'loss',\r\n",
    "                                            mode='auto',\r\n",
    "                                            patience=10,\r\n",
    "                                            verbose=1,\r\n",
    "                                            min_delta=0,\r\n",
    "                                            baseline=None,\r\n",
    "                                            save_best_model=True)"
   ]
  },
  {
   "cell_type": "code",
   "execution_count": null,
   "metadata": {
    "collapsed": false
   },
   "outputs": [
    {
     "name": "stdout",
     "output_type": "stream",
     "text": [
      "The loss value printed in the log is the current step, and the metric is the average value of previous step.\n",
      "Epoch 1/100\n",
      "step 10/10 [==============================] - loss: 0.1279 - acc: 0.9078 - 5s/step\n",
      "save checkpoint at /home/aistudio/mobilenet_v1_6/0\n",
      "Eval begin...\n",
      "The loss value printed in the log is the current batch, and the metric is the average value of previous step.\n",
      "step 3/3 [==============================] - loss: 0.0686 - acc: 0.9625 - 4s/step\n",
      "Eval samples: 160\n",
      "Epoch 2/100\n",
      "step 10/10 [==============================] - loss: 0.0684 - acc: 0.9734 - 5s/step\n",
      "Eval begin...\n",
      "The loss value printed in the log is the current batch, and the metric is the average value of previous step.\n",
      "step 3/3 [==============================] - loss: 0.0472 - acc: 0.9625 - 4s/step\n",
      "Eval samples: 160\n",
      "Epoch 3/100\n",
      "step 10/10 [==============================] - loss: 0.0261 - acc: 0.9812 - 5s/step\n",
      "Eval begin...\n",
      "The loss value printed in the log is the current batch, and the metric is the average value of previous step.\n",
      "step 3/3 [==============================] - loss: 0.0350 - acc: 0.9625 - 4s/step\n",
      "Eval samples: 160\n",
      "Epoch 4/100\n",
      "step 10/10 [==============================] - loss: 0.0589 - acc: 0.9812 - 6s/step\n",
      "Eval begin...\n",
      "The loss value printed in the log is the current batch, and the metric is the average value of previous step.\n",
      "step 3/3 [==============================] - loss: 0.0295 - acc: 0.9625 - 4s/step\n",
      "Eval samples: 160\n",
      "Epoch 5/100\n",
      "step 10/10 [==============================] - loss: 0.0083 - acc: 0.9875 - 5s/step\n",
      "Eval begin...\n",
      "The loss value printed in the log is the current batch, and the metric is the average value of previous step.\n",
      "step 3/3 [==============================] - loss: 0.0251 - acc: 0.9688 - 4s/step\n",
      "Eval samples: 160\n",
      "Epoch 6/100\n",
      "step 10/10 [==============================] - loss: 0.0176 - acc: 0.9906 - 5s/step\n",
      "save checkpoint at /home/aistudio/mobilenet_v1_6/5\n",
      "Eval begin...\n",
      "The loss value printed in the log is the current batch, and the metric is the average value of previous step.\n",
      "step 3/3 [==============================] - loss: 0.0088 - acc: 0.9750 - 4s/step\n",
      "Eval samples: 160\n",
      "Epoch 7/100\n",
      "step 10/10 [==============================] - loss: 0.0048 - acc: 0.9922 - 5s/step\n",
      "Eval begin...\n",
      "The loss value printed in the log is the current batch, and the metric is the average value of previous step.\n",
      "step 3/3 [==============================] - loss: 0.0423 - acc: 0.9812 - 4s/step\n",
      "Eval samples: 160\n",
      "Epoch 8/100\n",
      "step 10/10 [==============================] - loss: 0.0159 - acc: 0.9953 - 5s/step\n",
      "Eval begin...\n",
      "The loss value printed in the log is the current batch, and the metric is the average value of previous step.\n",
      "step 3/3 [==============================] - loss: 0.0498 - acc: 0.9812 - 4s/step\n",
      "Eval samples: 160\n",
      "Epoch 9/100\n",
      "step 10/10 [==============================] - loss: 0.0112 - acc: 0.9938 - 5s/step\n",
      "Eval begin...\n",
      "The loss value printed in the log is the current batch, and the metric is the average value of previous step.\n",
      "step 3/3 [==============================] - loss: 0.0267 - acc: 0.9812 - 4s/step\n",
      "Eval samples: 160\n",
      "Epoch 10/100\n",
      "step 10/10 [==============================] - loss: 0.0060 - acc: 0.9969 - 5s/step\n",
      "Eval begin...\n",
      "The loss value printed in the log is the current batch, and the metric is the average value of previous step.\n",
      "step 3/3 [==============================] - loss: 0.0119 - acc: 0.9875 - 5s/step\n",
      "Eval samples: 160\n",
      "Epoch 11/100\n",
      "step 10/10 [==============================] - loss: 0.0036 - acc: 0.9969 - 5s/step\n",
      "save checkpoint at /home/aistudio/mobilenet_v1_6/10\n",
      "Eval begin...\n",
      "The loss value printed in the log is the current batch, and the metric is the average value of previous step.\n",
      "step 3/3 [==============================] - loss: 0.0088 - acc: 0.9812 - 4s/step\n",
      "Eval samples: 160\n",
      "Epoch 12/100\n",
      "step 10/10 [==============================] - loss: 0.0623 - acc: 0.9953 - 5s/step\n",
      "Eval begin...\n",
      "The loss value printed in the log is the current batch, and the metric is the average value of previous step.\n",
      "step 3/3 [==============================] - loss: 0.0069 - acc: 0.9812 - 4s/step\n",
      "Eval samples: 160\n",
      "Epoch 13/100\n",
      "step 10/10 [==============================] - loss: 0.0012 - acc: 0.9969 - 5s/step\n",
      "Eval begin...\n",
      "The loss value printed in the log is the current batch, and the metric is the average value of previous step.\n",
      "step 3/3 [==============================] - loss: 0.0127 - acc: 0.9875 - 4s/step\n",
      "Eval samples: 160\n",
      "Epoch 14/100\n",
      "step 10/10 [==============================] - loss: 0.0551 - acc: 0.9953 - 5s/step\n",
      "Eval begin...\n",
      "The loss value printed in the log is the current batch, and the metric is the average value of previous step.\n",
      "step 3/3 [==============================] - loss: 0.0176 - acc: 0.9938 - 4s/step\n",
      "Eval samples: 160\n",
      "Epoch 15/100\n",
      "step 10/10 [==============================] - loss: 6.1628e-04 - acc: 1.0000 - 5s/step\n",
      "Eval begin...\n",
      "The loss value printed in the log is the current batch, and the metric is the average value of previous step.\n",
      "step 3/3 [==============================] - loss: 0.0153 - acc: 0.9938 - 4s/step\n",
      "Eval samples: 160\n",
      "Epoch 16/100\n",
      "step 10/10 [==============================] - loss: 0.0042 - acc: 0.9984 - 6s/step\n",
      "save checkpoint at /home/aistudio/mobilenet_v1_6/15\n",
      "Eval begin...\n",
      "The loss value printed in the log is the current batch, and the metric is the average value of previous step.\n",
      "step 3/3 [==============================] - loss: 0.0131 - acc: 0.9938 - 4s/step\n",
      "Eval samples: 160\n",
      "Epoch 17/100\n",
      "step 10/10 [==============================] - loss: 0.0155 - acc: 0.9969 - 6s/step\n",
      "Eval begin...\n",
      "The loss value printed in the log is the current batch, and the metric is the average value of previous step.\n",
      "step 3/3 [==============================] - loss: 0.0125 - acc: 0.9938 - 5s/step\n",
      "Eval samples: 160\n",
      "Epoch 18/100\n",
      "step 10/10 [==============================] - loss: 0.0077 - acc: 1.0000 - 5s/step\n",
      "Eval begin...\n",
      "The loss value printed in the log is the current batch, and the metric is the average value of previous step.\n",
      "step 3/3 [==============================] - loss: 0.0135 - acc: 0.9938 - 4s/step\n",
      "Eval samples: 160\n",
      "Epoch 19/100\n",
      "step 10/10 [==============================] - loss: 0.0035 - acc: 0.9984 - 6s/step\n",
      "Eval begin...\n",
      "The loss value printed in the log is the current batch, and the metric is the average value of previous step.\n",
      "step 3/3 [==============================] - loss: 0.0135 - acc: 0.9938 - 6s/step\n",
      "Eval samples: 160\n",
      "Epoch 20/100\n",
      "step 10/10 [==============================] - loss: 0.0508 - acc: 0.9969 - 5s/step\n",
      "Eval begin...\n",
      "The loss value printed in the log is the current batch, and the metric is the average value of previous step.\n",
      "step 3/3 [==============================] - loss: 0.0150 - acc: 0.9938 - 4s/step\n",
      "Eval samples: 160\n",
      "Epoch 21/100\n",
      "step 10/10 [==============================] - loss: 0.0018 - acc: 1.0000 - 6s/step\n",
      "save checkpoint at /home/aistudio/mobilenet_v1_6/20\n",
      "Eval begin...\n",
      "The loss value printed in the log is the current batch, and the metric is the average value of previous step.\n",
      "step 3/3 [==============================] - loss: 0.0150 - acc: 0.9938 - 5s/step\n",
      "Eval samples: 160\n",
      "Epoch 22/100\n",
      "step 10/10 [==============================] - loss: 0.0084 - acc: 0.9984 - 5s/step\n",
      "Eval begin...\n",
      "The loss value printed in the log is the current batch, and the metric is the average value of previous step.\n",
      "step 3/3 [==============================] - loss: 0.0139 - acc: 0.9938 - 4s/step\n",
      "Eval samples: 160\n",
      "Epoch 22: Early stopping.\n",
      "Best checkpoint has been saved at /home/aistudio/mobilenet_v1_6/best_model\n",
      "save checkpoint at /home/aistudio/mobilenet_v1_6/final\n"
     ]
    }
   ],
   "source": [
    "#########训练\r\n",
    "model.fit(train_data=train_data,     #训练数据集\r\n",
    "            eval_data=val_data,       #测试数据集\r\n",
    "            batch_size=batch_size,         #一个批次的样本数量\r\n",
    "            epochs=epochs,                  #迭代轮次\r\n",
    "            save_dir=save_dir, #把模型参数、优化器参数保存至自定义的文件夹\r\n",
    "            save_freq=5,                    #设定每隔多少个epoch保存模型参数及优化器参数\r\n",
    "            shuffle=True,\r\n",
    "            verbose=1,\r\n",
    "            callbacks=[visualdl, early_stop]\r\n",
    ")"
   ]
  },
  {
   "cell_type": "markdown",
   "metadata": {
    "collapsed": false
   },
   "source": [
    "# 用最好的模型预测"
   ]
  },
  {
   "cell_type": "code",
   "execution_count": 87,
   "metadata": {
    "collapsed": false
   },
   "outputs": [],
   "source": [
    "model_path = \"mobilenet_v1_2/best_model.pdparams\"\r\n",
    "model.load(model_path)"
   ]
  },
  {
   "cell_type": "code",
   "execution_count": 79,
   "metadata": {
    "collapsed": false
   },
   "outputs": [
    {
     "name": "stdout",
     "output_type": "stream",
     "text": [
      "Predict begin...\n",
      "step 149/149 [==============================] - 88ms/step        \n",
      "Predict samples: 149\n"
     ]
    }
   ],
   "source": [
    "results = model.predict(test_data)"
   ]
  },
  {
   "cell_type": "code",
   "execution_count": null,
   "metadata": {
    "collapsed": false
   },
   "outputs": [
    {
     "name": "stdout",
     "output_type": "stream",
     "text": [
      "(400,)\n",
      "['T0001.jpg', 'T0002.jpg', 'T0003.jpg', 'T0004.jpg', 'T0005.jpg']\n"
     ]
    }
   ],
   "source": [
    "new_results = paddle.nn.functional.softmax(paddle.to_tensor(np.array(results).squeeze(0).squeeze(1)), axis=-1).numpy()[:, 1]\r\n",
    "print(new_results.shape)\r\n",
    "file_name = sorted(os.listdir(\"data/常规赛：PALM病理性近视预测/PALM-Testing400-Images\"))\r\n",
    "print(file_name[:5])"
   ]
  },
  {
   "cell_type": "code",
   "execution_count": null,
   "metadata": {
    "collapsed": false
   },
   "outputs": [],
   "source": [
    "#生成csv文件\r\n",
    "df = pd.DataFrame({'FileName': file_name, 'PM Risk': new_results})\r\n",
    "df.to_csv('Classification_Results6.csv', index=False)"
   ]
  },
  {
   "cell_type": "markdown",
   "metadata": {
    "collapsed": false
   },
   "source": [
    "# 使用半监督学习"
   ]
  },
  {
   "cell_type": "code",
   "execution_count": 88,
   "metadata": {
    "collapsed": false
   },
   "outputs": [
    {
     "name": "stdout",
     "output_type": "stream",
     "text": [
      "train data length: 640\n",
      "val data length: 160\n",
      "test data length: 400\n"
     ]
    }
   ],
   "source": [
    "#构建Dataset\r\n",
    "class MyNewDataset(Dataset):\r\n",
    "    def __init__(self, file_name, mode, transform=None, is_semisuper=False, fake_imgs=None, fake_labels=None, fake_data_idx=None):\r\n",
    "        assert mode==\"train\" or mode==\"val\" or mode==\"test\", \"ERROR:mode must be train, val or test.\"\r\n",
    "        self.img_path_list = []\r\n",
    "        self.label_list = []\r\n",
    "        #打开存放图片路径的.txt文件，得到图片路径列表和对应标签列表\r\n",
    "        with open(file_name, 'r') as f:\r\n",
    "            for idx, line in enumerate(f.readlines()):\r\n",
    "                if  mode=='test' and is_semisuper and (idx in fake_data_idx):\r\n",
    "                    continue\r\n",
    "                line = line.strip().split(',')\r\n",
    "                self.img_path_list.append(line[0])\r\n",
    "                if mode!='test':#测试集没有标签\r\n",
    "                    self.label_list.append(int(line[1]))        \r\n",
    "        \r\n",
    "        if mode==\"train\" and is_semisuper:\r\n",
    "            self.img_path_list.extend(fake_imgs)\r\n",
    "            self.label_list.extend(fake_labels)\r\n",
    "        self.transform = transform\r\n",
    "        self.mode = mode\r\n",
    "\r\n",
    "    def __getitem__(self, idx):\r\n",
    "        #读取图片，（H,W,C）\r\n",
    "        img = Image.open(self.img_path_list[idx])\r\n",
    "        if img.mode != 'RGB':\r\n",
    "            img = img.convert('RGB')\r\n",
    "        #应用数据增强\r\n",
    "        if self.transform is not None:\r\n",
    "            img = self.transform(img).astype('float32')\r\n",
    "        \r\n",
    "        if self.mode!='test':\r\n",
    "            label = np.array(self.label_list[idx], dtype='int64')\r\n",
    "            return img, label\r\n",
    "        else:\r\n",
    "            return [img]\r\n",
    "\r\n",
    "    def __len__(self):\r\n",
    "        return len(self.img_path_list)\r\n",
    "\r\n",
    "    @property\r\n",
    "    def ret_img_path_list(self):\r\n",
    "        return self.img_path_list\r\n",
    "\r\n",
    "#顺序得到train_data, val_data, test_data\r\n",
    "train_data = MyNewDataset(file_name='train.txt', mode='train', transform=train_transform)\r\n",
    "val_data = MyNewDataset(file_name='val.txt', mode='val', transform=test_transform)\r\n",
    "test_data = MyNewDataset(file_name='test.txt', mode='test', transform=test_transform)\r\n",
    "#train_loader = paddle.io.DataLoader(train_data, batch_size=batch_size, shuffle=True)\r\n",
    "#val_loader = paddle.io.DataLoader(val_data, batch_size=batch_size, shuffle=False)\r\n",
    "#test_loader = paddle.io.DataLoader(test_data, batch_size=batch_size, shuffle=False)\r\n",
    "print(\"train data length:\", len(train_data))\r\n",
    "print(\"val data length:\", len(val_data))\r\n",
    "print(\"test data length:\", len(test_data))"
   ]
  },
  {
   "cell_type": "code",
   "execution_count": 89,
   "metadata": {
    "collapsed": false
   },
   "outputs": [],
   "source": [
    "#使用self.training\r\n",
    "#设置阈值，判断是否加入训练\r\n",
    "def add_label(logits, test_img_path, threshold=0.999):\r\n",
    "    print(\"开始半监督添加数据...\")\r\n",
    "    fake_imgs = []\r\n",
    "    fake_labels = []\r\n",
    "    fake_data_idx = []\r\n",
    "    for i, path in enumerate(test_img_path):\r\n",
    "        if logits[i] > threshold or logits[i] < 1-threshold:\r\n",
    "            fake_imgs.append(path)\r\n",
    "            label = 1 if logits[i] > threshold else 0\r\n",
    "            fake_labels.append(label)\r\n",
    "            fake_data_idx.append(i)\r\n",
    "    return fake_imgs, fake_labels, fake_data_idx"
   ]
  },
  {
   "cell_type": "code",
   "execution_count": 90,
   "metadata": {
    "collapsed": false
   },
   "outputs": [],
   "source": [
    "base_lr = 3e-5\r\n",
    "#scheduler = paddle.optimizer.lr.MultiStepDecay(learning_rate=base_lr, milestones=[2940*3], gamma=0.1, last_epoch=-1, verbose=False)\r\n",
    "#scheduler = paddle.optimizer.lr.LinearWarmup(learning_rate=lr, warmup_steps=2940, start_lr=3e-7, end_lr=base_lr, last_epoch=-1, verbose=False)\r\n",
    "optimizer = paddle.optimizer.AdamW(learning_rate=base_lr, parameters=model.parameters())"
   ]
  },
  {
   "cell_type": "code",
   "execution_count": 91,
   "metadata": {
    "collapsed": false
   },
   "outputs": [],
   "source": [
    "#model_path = \"\"\r\n",
    "#model.load(model_path)\r\n",
    "model.prepare(optimizer=optimizer, #指定优化器\r\n",
    "                loss=paddle.nn.CrossEntropyLoss(), #指定损失函数\r\n",
    "                metrics=paddle.metric.Accuracy()) #指定评估方法"
   ]
  },
  {
   "cell_type": "code",
   "execution_count": 92,
   "metadata": {
    "collapsed": false
   },
   "outputs": [
    {
     "name": "stdout",
     "output_type": "stream",
     "text": [
      "Predict begin...\n",
      "step 400/400 [==============================] - 87ms/step        \n",
      "Predict samples: 400\n",
      "开始半监督添加数据...\n",
      "train data: 993 test data: 47\n",
      "The loss value printed in the log is the current step, and the metric is the average value of previous step.\n",
      "Epoch 1/2\n",
      "step 16/16 [==============================] - loss: 1.7395e-04 - acc: 0.9980 - 5s/step      \n",
      "save checkpoint at /home/aistudio/semi_mobilenet_v1_2_1/0\n",
      "Eval begin...\n",
      "The loss value printed in the log is the current batch, and the metric is the average value of previous step.\n",
      "step 3/3 [==============================] - loss: 0.0013 - acc: 1.0000 - 4s/step\n",
      "Eval samples: 160\n",
      "Epoch 2/2\n",
      "step 16/16 [==============================] - loss: 1.7787e-04 - acc: 0.9980 - 5s/step          \n",
      "Eval begin...\n",
      "The loss value printed in the log is the current batch, and the metric is the average value of previous step.\n",
      "step 3/3 [==============================] - loss: 0.0013 - acc: 1.0000 - 4s/step\n",
      "Eval samples: 160\n",
      "save checkpoint at /home/aistudio/semi_mobilenet_v1_2_1/final\n",
      "Predict begin...\n",
      "step 47/47 [==============================] - 120ms/step        \n",
      "Predict samples: 47\n",
      "开始半监督添加数据...\n",
      "train data: 995 test data: 46\n",
      "The loss value printed in the log is the current step, and the metric is the average value of previous step.\n",
      "Epoch 1/2\n",
      "step 16/16 [==============================] - loss: 8.2639e-05 - acc: 0.9990 - 5s/step      \n",
      "save checkpoint at /home/aistudio/semi_mobilenet_v1_2_1/0\n",
      "Eval begin...\n",
      "The loss value printed in the log is the current batch, and the metric is the average value of previous step.\n",
      "step 3/3 [==============================] - loss: 0.0011 - acc: 1.0000 - 4s/step\n",
      "Eval samples: 160\n",
      "Epoch 2/2\n",
      "step 16/16 [==============================] - loss: 1.5001e-04 - acc: 0.9960 - 5s/step          \n",
      "Eval begin...\n",
      "The loss value printed in the log is the current batch, and the metric is the average value of previous step.\n",
      "step 3/3 [==============================] - loss: 5.3732e-04 - acc: 1.0000 - 4s/step\n",
      "Eval samples: 160\n",
      "save checkpoint at /home/aistudio/semi_mobilenet_v1_2_1/final\n",
      "Predict begin...\n",
      "step 46/46 [==============================] - 96ms/step        \n",
      "Predict samples: 46\n",
      "开始半监督添加数据...\n",
      "train data: 998 test data: 45\n",
      "The loss value printed in the log is the current step, and the metric is the average value of previous step.\n",
      "Epoch 1/2\n",
      "step 16/16 [==============================] - loss: 1.1915e-04 - acc: 0.9980 - 5s/step      \n",
      "save checkpoint at /home/aistudio/semi_mobilenet_v1_2_1/0\n",
      "Eval begin...\n",
      "The loss value printed in the log is the current batch, and the metric is the average value of previous step.\n",
      "step 3/3 [==============================] - loss: 5.3760e-04 - acc: 1.0000 - 4s/step\n",
      "Eval samples: 160\n",
      "Epoch 2/2\n",
      "step 16/16 [==============================] - loss: 1.4087e-04 - acc: 0.9980 - 5s/step          \n",
      "Eval begin...\n",
      "The loss value printed in the log is the current batch, and the metric is the average value of previous step.\n",
      "step 3/3 [==============================] - loss: 6.5964e-04 - acc: 1.0000 - 4s/step\n",
      "Eval samples: 160\n",
      "save checkpoint at /home/aistudio/semi_mobilenet_v1_2_1/final\n",
      "Predict begin...\n",
      "step 45/45 [==============================] - 85ms/step        \n",
      "Predict samples: 45\n",
      "开始半监督添加数据...\n",
      "train data: 1003 test data: 45\n",
      "The loss value printed in the log is the current step, and the metric is the average value of previous step.\n",
      "Epoch 1/2\n",
      "step 16/16 [==============================] - loss: 0.0010 - acc: 0.9990 - 5s/step              \n",
      "save checkpoint at /home/aistudio/semi_mobilenet_v1_2_1/0\n",
      "Eval begin...\n",
      "The loss value printed in the log is the current batch, and the metric is the average value of previous step.\n",
      "step 3/3 [==============================] - loss: 6.7723e-04 - acc: 1.0000 - 4s/step\n",
      "Eval samples: 160\n",
      "Epoch 2/2\n",
      "step 16/16 [==============================] - loss: 6.5536e-04 - acc: 0.9990 - 5s/step          \n",
      "Eval begin...\n",
      "The loss value printed in the log is the current batch, and the metric is the average value of previous step.\n",
      "step 3/3 [==============================] - loss: 6.4994e-04 - acc: 1.0000 - 4s/step\n",
      "Eval samples: 160\n",
      "save checkpoint at /home/aistudio/semi_mobilenet_v1_2_1/final\n",
      "Predict begin...\n",
      "step 45/45 [==============================] - 86ms/step        \n",
      "Predict samples: 45\n",
      "开始半监督添加数据...\n",
      "train data: 1008 test data: 45\n",
      "The loss value printed in the log is the current step, and the metric is the average value of previous step.\n",
      "Epoch 1/2\n",
      "step 16/16 [==============================] - loss: 8.5810e-04 - acc: 0.9980 - 5s/step      \n",
      "save checkpoint at /home/aistudio/semi_mobilenet_v1_2_1/0\n",
      "Eval begin...\n",
      "The loss value printed in the log is the current batch, and the metric is the average value of previous step.\n",
      "step 3/3 [==============================] - loss: 8.5687e-04 - acc: 1.0000 - 4s/step\n",
      "Eval samples: 160\n",
      "Epoch 2/2\n",
      "step 16/16 [==============================] - loss: 3.3628e-04 - acc: 0.9990 - 5s/step          \n",
      "Eval begin...\n",
      "The loss value printed in the log is the current batch, and the metric is the average value of previous step.\n",
      "step 3/3 [==============================] - loss: 9.9122e-04 - acc: 1.0000 - 4s/step\n",
      "Eval samples: 160\n",
      "save checkpoint at /home/aistudio/semi_mobilenet_v1_2_1/final\n"
     ]
    }
   ],
   "source": [
    "epochs = 5#\r\n",
    "threshold = 0.999\r\n",
    "delta = 0.009\r\n",
    "save_dir = \"semi_mobilenet_v1_2_1\"\r\n",
    "fake_imgs_list = []\r\n",
    "fake_labels_list = []\r\n",
    "fake_data_idx_list = []\r\n",
    "for i in range(epochs+1):\r\n",
    "    if i!=0:\r\n",
    "        model.fit(train_data=train_data,     #训练数据集\r\n",
    "                eval_data=val_data,       #测试数据集\r\n",
    "                batch_size=batch_size,         #一个批次的样本数量\r\n",
    "                epochs=2,                  #迭代轮次\r\n",
    "                save_dir=save_dir, #把模型参数、优化器参数保存至自定义的文件夹\r\n",
    "                save_freq=10,                    #设定每隔多少个epoch保存模型参数及优化器参数\r\n",
    "                shuffle=True,\r\n",
    "                verbose=1\r\n",
    "                )\r\n",
    "    #test\r\n",
    "    if i==epochs:\r\n",
    "        break\r\n",
    "    results = model.predict(test_data)\r\n",
    "    new_results = paddle.nn.functional.softmax(paddle.to_tensor(np.array(results).squeeze(0).squeeze(1)), axis=-1).numpy()[:, 1]\r\n",
    "    fake_imgs, fake_labels, fake_data_idx = add_label(new_results, test_data.ret_img_path_list, threshold=threshold)\r\n",
    "    #threshold += delta*0.1\r\n",
    "    fake_imgs_list.extend(fake_imgs)\r\n",
    "    fake_labels_list.extend(fake_labels)\r\n",
    "    fake_data_idx_list.extend(fake_data_idx)\r\n",
    "    train_data = MyNewDataset(file_name='train.txt', mode='train', transform=train_transform, is_semisuper=True, fake_imgs=fake_imgs_list, fake_labels=fake_labels_list, fake_data_idx=fake_data_idx_list)\r\n",
    "    test_data = MyNewDataset(file_name='test.txt', mode='test', transform=test_transform, is_semisuper=True, fake_imgs=fake_imgs_list, fake_labels=fake_labels_list, fake_data_idx=fake_data_idx_list)\r\n",
    "    print(\"train data:\", len(train_data), \"test data:\", len(test_data))"
   ]
  },
  {
   "cell_type": "code",
   "execution_count": 93,
   "metadata": {
    "collapsed": false
   },
   "outputs": [
    {
     "name": "stdout",
     "output_type": "stream",
     "text": [
      "Predict begin...\n",
      "step 400/400 [==============================] - 83ms/step        \n",
      "Predict samples: 400\n"
     ]
    }
   ],
   "source": [
    "test_data = MyNewDataset(file_name='test.txt', mode='test', transform=test_transform)\r\n",
    "results = model.predict(test_data)\r\n",
    "new_results = paddle.nn.functional.softmax(paddle.to_tensor(np.array(results).squeeze(0).squeeze(1)), axis=-1).numpy()[:, 1]\r\n",
    "file_name = sorted(os.listdir(\"data/常规赛：PALM病理性近视预测/PALM-Testing400-Images\"))\r\n"
   ]
  },
  {
   "cell_type": "code",
   "execution_count": 94,
   "metadata": {
    "collapsed": false
   },
   "outputs": [],
   "source": [
    "#生成csv文件\r\n",
    "df = pd.DataFrame({'FileName': file_name, 'PM Risk': new_results})\r\n",
    "df.to_csv('Classification_Results1_semi.csv', index=False)"
   ]
  },
  {
   "cell_type": "markdown",
   "metadata": {
    "collapsed": false
   },
   "source": [
    "# 集成学习"
   ]
  },
  {
   "cell_type": "code",
   "execution_count": null,
   "metadata": {
    "collapsed": false
   },
   "outputs": [
    {
     "data": {
      "text/html": [
       "<div>\n",
       "<style scoped>\n",
       "    .dataframe tbody tr th:only-of-type {\n",
       "        vertical-align: middle;\n",
       "    }\n",
       "\n",
       "    .dataframe tbody tr th {\n",
       "        vertical-align: top;\n",
       "    }\n",
       "\n",
       "    .dataframe thead th {\n",
       "        text-align: right;\n",
       "    }\n",
       "</style>\n",
       "<table border=\"1\" class=\"dataframe\">\n",
       "  <thead>\n",
       "    <tr style=\"text-align: right;\">\n",
       "      <th></th>\n",
       "      <th>FileName</th>\n",
       "      <th>PM Risk</th>\n",
       "    </tr>\n",
       "  </thead>\n",
       "  <tbody>\n",
       "    <tr>\n",
       "      <th>0</th>\n",
       "      <td>T0001.jpg</td>\n",
       "      <td>0.999918</td>\n",
       "    </tr>\n",
       "    <tr>\n",
       "      <th>1</th>\n",
       "      <td>T0002.jpg</td>\n",
       "      <td>0.000781</td>\n",
       "    </tr>\n",
       "    <tr>\n",
       "      <th>2</th>\n",
       "      <td>T0003.jpg</td>\n",
       "      <td>0.000044</td>\n",
       "    </tr>\n",
       "    <tr>\n",
       "      <th>3</th>\n",
       "      <td>T0004.jpg</td>\n",
       "      <td>0.999998</td>\n",
       "    </tr>\n",
       "    <tr>\n",
       "      <th>4</th>\n",
       "      <td>T0005.jpg</td>\n",
       "      <td>0.999991</td>\n",
       "    </tr>\n",
       "  </tbody>\n",
       "</table>\n",
       "</div>"
      ],
      "text/plain": [
       "    FileName   PM Risk\n",
       "0  T0001.jpg  0.999918\n",
       "1  T0002.jpg  0.000781\n",
       "2  T0003.jpg  0.000044\n",
       "3  T0004.jpg  0.999998\n",
       "4  T0005.jpg  0.999991"
      ]
     },
     "execution_count": null,
     "metadata": {},
     "output_type": "execute_result"
    }
   ],
   "source": [
    "df1 = pd.read_csv(\"Classification_Results1.csv\")\r\n",
    "df2 = pd.read_csv(\"Classification_Results2.csv\")\r\n",
    "df3 = pd.read_csv(\"Classification_Results3.csv\")\r\n",
    "df4 = pd.read_csv(\"Classification_Results4.csv\")\r\n",
    "df5 = pd.read_csv(\"Classification_Results5.csv\")\r\n",
    "df = pd.DataFrame()\r\n",
    "df['FileName'] = df1['FileName']\r\n",
    "df['PM Risk'] = (df1['PM Risk']+df2['PM Risk']+df3['PM Risk']+df4['PM Risk']+df5['PM Risk'])/5\r\n",
    "df.head()"
   ]
  },
  {
   "cell_type": "code",
   "execution_count": null,
   "metadata": {
    "collapsed": false
   },
   "outputs": [],
   "source": [
    "df.to_csv('Classification_Results.csv', index=False)"
   ]
  }
 ],
 "metadata": {
  "kernelspec": {
   "display_name": "PaddlePaddle 2.0.0b0 (Python 3.5)",
   "language": "python",
   "name": "py35-paddle1.2.0"
  },
  "language_info": {
   "codemirror_mode": {
    "name": "ipython",
    "version": 3
   },
   "file_extension": ".py",
   "mimetype": "text/x-python",
   "name": "python",
   "nbconvert_exporter": "python",
   "pygments_lexer": "ipython3",
   "version": "3.7.4"
  }
 },
 "nbformat": 4,
 "nbformat_minor": 1
}
